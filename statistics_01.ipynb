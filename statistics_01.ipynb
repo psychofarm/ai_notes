{
  "nbformat": 4,
  "nbformat_minor": 0,
  "metadata": {
    "colab": {
      "name": "statistics_01.ipynb",
      "version": "0.3.2",
      "provenance": [],
      "collapsed_sections": [
        "u_5lFCJ1qWsj",
        "jAuRmcEyqnCu"
      ],
      "toc_visible": true
    },
    "kernelspec": {
      "display_name": "Python 3",
      "language": "python",
      "name": "python3"
    }
  },
  "cells": [
    {
      "metadata": {
        "id": "-kxb1gvypHjm",
        "colab_type": "text"
      },
      "cell_type": "markdown",
      "source": [
        "## Statistics 01\n",
        "\n",
        "\n",
        "\n"
      ]
    },
    {
      "metadata": {
        "id": "wq439Zd3UqPs",
        "colab_type": "text"
      },
      "cell_type": "markdown",
      "source": [
        "### Information\n"
      ]
    },
    {
      "metadata": {
        "id": "uRlmNvkfUtVd",
        "colab_type": "text"
      },
      "cell_type": "markdown",
      "source": [
        "\n",
        "#### Description\n",
        "+ Example code for finding statistics using a dictionary with three lists of integers and explore plots.\n",
        "\n",
        "#### Key concepts\n",
        "+ mean, mode, median, variance, standard deviation\n",
        "\n",
        "#### Code overview\n",
        "+ Code samples built from matplotlib, numpy, pandas, scipy\n",
        "+ Create a dictionary\n",
        "+ Create a pandas DataFrame from the dictionary\n",
        "+ Use describe() method to show statistics with original vertical view\n",
        "+ Use describe() method to show statistics with transposed horizontal view\n",
        "+ Show count, mean, mode, median\n",
        "+ Show variance, standard deviation, standard error (optional use scipy or numpy)\n",
        "+ Enable inline plotting with Jupyter magic\n",
        "+ Graph histogram distribution of values in each group"
      ]
    },
    {
      "metadata": {
        "id": "6x6kfKuLUa7J",
        "colab_type": "text"
      },
      "cell_type": "markdown",
      "source": [
        "### Table of contents\n"
      ]
    },
    {
      "metadata": {
        "id": "s09N7O6oTs1V",
        "colab_type": "toc"
      },
      "cell_type": "markdown",
      "source": [
        ">>[Statistics 01](#scrollTo=-kxb1gvypHjm)\n",
        "\n",
        ">>>[Information](#scrollTo=wq439Zd3UqPs)\n",
        "\n",
        ">>>>[Description](#scrollTo=uRlmNvkfUtVd)\n",
        "\n",
        ">>>>[Key concepts](#scrollTo=uRlmNvkfUtVd)\n",
        "\n",
        ">>>>[Code overview](#scrollTo=uRlmNvkfUtVd)\n",
        "\n",
        ">>>[Table of contents](#scrollTo=6x6kfKuLUa7J)\n",
        "\n",
        ">>>[Create DataFrame](#scrollTo=zx6VyN48pQEr)\n",
        "\n",
        ">>>[Print pandas statistics](#scrollTo=u_5lFCJ1qWsj)\n",
        "\n",
        ">>>[Calculate statistics](#scrollTo=jAuRmcEyqnCu)\n",
        "\n",
        ">>>[Plot histogram with matplotlib](#scrollTo=I6_bbJsnqxBj)\n",
        "\n",
        ">>>[Plot histogram with Altair](#scrollTo=ccOtQQqGq98F)\n",
        "\n"
      ]
    },
    {
      "metadata": {
        "id": "zx6VyN48pQEr",
        "colab_type": "text"
      },
      "cell_type": "markdown",
      "source": [
        "### Create DataFrame"
      ]
    },
    {
      "metadata": {
        "id": "KUySPNT1pHjq",
        "colab_type": "code",
        "colab": {}
      },
      "cell_type": "code",
      "source": [
        "# import needed libraries\n",
        "import matplotlib.pyplot as plt\n",
        "import numpy as np\n",
        "import pandas as pd\n",
        "\n",
        "from scipy import stats"
      ],
      "execution_count": 0,
      "outputs": []
    },
    {
      "metadata": {
        "id": "Yle-l7thpHj3",
        "colab_type": "code",
        "colab": {
          "base_uri": "https://localhost:8080/",
          "height": 68
        },
        "outputId": "3042f510-9df4-4a51-e9df-00be15031997"
      },
      "cell_type": "code",
      "source": [
        "# create a dictionary\n",
        "d = {\n",
        "    \"grp_01\": [0, 0, 0, 0, 0, 0, 0, 0, 0, 0, 1, 2, 3, 4, 5, 6],\n",
        "    \"grp_02\": [0, 1, 1, 2, 2, 2, 3, 3, 3, 3, 4, 4, 4, 5, 5, 6],\n",
        "    \"grp_03\": [0, 1, 2, 3, 4, 5, 6, 6, 6, 6, 6, 6, 6, 6, 6, 6,]\n",
        "}\n",
        "d"
      ],
      "execution_count": 3,
      "outputs": [
        {
          "output_type": "execute_result",
          "data": {
            "text/plain": [
              "{'grp_01': [0, 0, 0, 0, 0, 0, 0, 0, 0, 0, 1, 2, 3, 4, 5, 6],\n",
              " 'grp_02': [0, 1, 1, 2, 2, 2, 3, 3, 3, 3, 4, 4, 4, 5, 5, 6],\n",
              " 'grp_03': [0, 1, 2, 3, 4, 5, 6, 6, 6, 6, 6, 6, 6, 6, 6, 6]}"
            ]
          },
          "metadata": {
            "tags": []
          },
          "execution_count": 3
        }
      ]
    },
    {
      "metadata": {
        "id": "6gktna5epHkK",
        "colab_type": "code",
        "colab": {
          "base_uri": "https://localhost:8080/",
          "height": 545
        },
        "outputId": "e6358669-0656-48ed-beff-1953a82ad480"
      },
      "cell_type": "code",
      "source": [
        "# create pandas DataFrame from dictionary\n",
        "df = pd.DataFrame(d)\n",
        "df"
      ],
      "execution_count": 4,
      "outputs": [
        {
          "output_type": "execute_result",
          "data": {
            "text/html": [
              "<div>\n",
              "<style scoped>\n",
              "    .dataframe tbody tr th:only-of-type {\n",
              "        vertical-align: middle;\n",
              "    }\n",
              "\n",
              "    .dataframe tbody tr th {\n",
              "        vertical-align: top;\n",
              "    }\n",
              "\n",
              "    .dataframe thead th {\n",
              "        text-align: right;\n",
              "    }\n",
              "</style>\n",
              "<table border=\"1\" class=\"dataframe\">\n",
              "  <thead>\n",
              "    <tr style=\"text-align: right;\">\n",
              "      <th></th>\n",
              "      <th>grp_01</th>\n",
              "      <th>grp_02</th>\n",
              "      <th>grp_03</th>\n",
              "    </tr>\n",
              "  </thead>\n",
              "  <tbody>\n",
              "    <tr>\n",
              "      <th>0</th>\n",
              "      <td>0</td>\n",
              "      <td>0</td>\n",
              "      <td>0</td>\n",
              "    </tr>\n",
              "    <tr>\n",
              "      <th>1</th>\n",
              "      <td>0</td>\n",
              "      <td>1</td>\n",
              "      <td>1</td>\n",
              "    </tr>\n",
              "    <tr>\n",
              "      <th>2</th>\n",
              "      <td>0</td>\n",
              "      <td>1</td>\n",
              "      <td>2</td>\n",
              "    </tr>\n",
              "    <tr>\n",
              "      <th>3</th>\n",
              "      <td>0</td>\n",
              "      <td>2</td>\n",
              "      <td>3</td>\n",
              "    </tr>\n",
              "    <tr>\n",
              "      <th>4</th>\n",
              "      <td>0</td>\n",
              "      <td>2</td>\n",
              "      <td>4</td>\n",
              "    </tr>\n",
              "    <tr>\n",
              "      <th>5</th>\n",
              "      <td>0</td>\n",
              "      <td>2</td>\n",
              "      <td>5</td>\n",
              "    </tr>\n",
              "    <tr>\n",
              "      <th>6</th>\n",
              "      <td>0</td>\n",
              "      <td>3</td>\n",
              "      <td>6</td>\n",
              "    </tr>\n",
              "    <tr>\n",
              "      <th>7</th>\n",
              "      <td>0</td>\n",
              "      <td>3</td>\n",
              "      <td>6</td>\n",
              "    </tr>\n",
              "    <tr>\n",
              "      <th>8</th>\n",
              "      <td>0</td>\n",
              "      <td>3</td>\n",
              "      <td>6</td>\n",
              "    </tr>\n",
              "    <tr>\n",
              "      <th>9</th>\n",
              "      <td>0</td>\n",
              "      <td>3</td>\n",
              "      <td>6</td>\n",
              "    </tr>\n",
              "    <tr>\n",
              "      <th>10</th>\n",
              "      <td>1</td>\n",
              "      <td>4</td>\n",
              "      <td>6</td>\n",
              "    </tr>\n",
              "    <tr>\n",
              "      <th>11</th>\n",
              "      <td>2</td>\n",
              "      <td>4</td>\n",
              "      <td>6</td>\n",
              "    </tr>\n",
              "    <tr>\n",
              "      <th>12</th>\n",
              "      <td>3</td>\n",
              "      <td>4</td>\n",
              "      <td>6</td>\n",
              "    </tr>\n",
              "    <tr>\n",
              "      <th>13</th>\n",
              "      <td>4</td>\n",
              "      <td>5</td>\n",
              "      <td>6</td>\n",
              "    </tr>\n",
              "    <tr>\n",
              "      <th>14</th>\n",
              "      <td>5</td>\n",
              "      <td>5</td>\n",
              "      <td>6</td>\n",
              "    </tr>\n",
              "    <tr>\n",
              "      <th>15</th>\n",
              "      <td>6</td>\n",
              "      <td>6</td>\n",
              "      <td>6</td>\n",
              "    </tr>\n",
              "  </tbody>\n",
              "</table>\n",
              "</div>"
            ],
            "text/plain": [
              "    grp_01  grp_02  grp_03\n",
              "0        0       0       0\n",
              "1        0       1       1\n",
              "2        0       1       2\n",
              "3        0       2       3\n",
              "4        0       2       4\n",
              "5        0       2       5\n",
              "6        0       3       6\n",
              "7        0       3       6\n",
              "8        0       3       6\n",
              "9        0       3       6\n",
              "10       1       4       6\n",
              "11       2       4       6\n",
              "12       3       4       6\n",
              "13       4       5       6\n",
              "14       5       5       6\n",
              "15       6       6       6"
            ]
          },
          "metadata": {
            "tags": []
          },
          "execution_count": 4
        }
      ]
    },
    {
      "metadata": {
        "id": "u_5lFCJ1qWsj",
        "colab_type": "text"
      },
      "cell_type": "markdown",
      "source": [
        "### Print pandas statistics "
      ]
    },
    {
      "metadata": {
        "id": "oiuYqLqypHkZ",
        "colab_type": "code",
        "colab": {
          "base_uri": "https://localhost:8080/",
          "height": 297
        },
        "outputId": "d592c475-e428-4b72-8d15-33bece03e266"
      },
      "cell_type": "code",
      "source": [
        "# print statistics describing df (normal vertical format)\n",
        "stats_v = df.describe()\n",
        "stats_v"
      ],
      "execution_count": 5,
      "outputs": [
        {
          "output_type": "execute_result",
          "data": {
            "text/html": [
              "<div>\n",
              "<style scoped>\n",
              "    .dataframe tbody tr th:only-of-type {\n",
              "        vertical-align: middle;\n",
              "    }\n",
              "\n",
              "    .dataframe tbody tr th {\n",
              "        vertical-align: top;\n",
              "    }\n",
              "\n",
              "    .dataframe thead th {\n",
              "        text-align: right;\n",
              "    }\n",
              "</style>\n",
              "<table border=\"1\" class=\"dataframe\">\n",
              "  <thead>\n",
              "    <tr style=\"text-align: right;\">\n",
              "      <th></th>\n",
              "      <th>grp_01</th>\n",
              "      <th>grp_02</th>\n",
              "      <th>grp_03</th>\n",
              "    </tr>\n",
              "  </thead>\n",
              "  <tbody>\n",
              "    <tr>\n",
              "      <th>count</th>\n",
              "      <td>16.000000</td>\n",
              "      <td>16.000000</td>\n",
              "      <td>16.000000</td>\n",
              "    </tr>\n",
              "    <tr>\n",
              "      <th>mean</th>\n",
              "      <td>1.312500</td>\n",
              "      <td>3.000000</td>\n",
              "      <td>4.687500</td>\n",
              "    </tr>\n",
              "    <tr>\n",
              "      <th>std</th>\n",
              "      <td>2.056494</td>\n",
              "      <td>1.632993</td>\n",
              "      <td>2.056494</td>\n",
              "    </tr>\n",
              "    <tr>\n",
              "      <th>min</th>\n",
              "      <td>0.000000</td>\n",
              "      <td>0.000000</td>\n",
              "      <td>0.000000</td>\n",
              "    </tr>\n",
              "    <tr>\n",
              "      <th>25%</th>\n",
              "      <td>0.000000</td>\n",
              "      <td>2.000000</td>\n",
              "      <td>3.750000</td>\n",
              "    </tr>\n",
              "    <tr>\n",
              "      <th>50%</th>\n",
              "      <td>0.000000</td>\n",
              "      <td>3.000000</td>\n",
              "      <td>6.000000</td>\n",
              "    </tr>\n",
              "    <tr>\n",
              "      <th>75%</th>\n",
              "      <td>2.250000</td>\n",
              "      <td>4.000000</td>\n",
              "      <td>6.000000</td>\n",
              "    </tr>\n",
              "    <tr>\n",
              "      <th>max</th>\n",
              "      <td>6.000000</td>\n",
              "      <td>6.000000</td>\n",
              "      <td>6.000000</td>\n",
              "    </tr>\n",
              "  </tbody>\n",
              "</table>\n",
              "</div>"
            ],
            "text/plain": [
              "          grp_01     grp_02     grp_03\n",
              "count  16.000000  16.000000  16.000000\n",
              "mean    1.312500   3.000000   4.687500\n",
              "std     2.056494   1.632993   2.056494\n",
              "min     0.000000   0.000000   0.000000\n",
              "25%     0.000000   2.000000   3.750000\n",
              "50%     0.000000   3.000000   6.000000\n",
              "75%     2.250000   4.000000   6.000000\n",
              "max     6.000000   6.000000   6.000000"
            ]
          },
          "metadata": {
            "tags": []
          },
          "execution_count": 5
        }
      ]
    },
    {
      "metadata": {
        "id": "kVWBHXH_pHkl",
        "colab_type": "code",
        "colab": {
          "base_uri": "https://localhost:8080/",
          "height": 142
        },
        "outputId": "1fd00964-7448-4e84-d092-ad049b2e340b"
      },
      "cell_type": "code",
      "source": [
        "# print statistics describing df (transposed horizontal format)\n",
        "stats_h = df.describe().T\n",
        "stats_h"
      ],
      "execution_count": 6,
      "outputs": [
        {
          "output_type": "execute_result",
          "data": {
            "text/html": [
              "<div>\n",
              "<style scoped>\n",
              "    .dataframe tbody tr th:only-of-type {\n",
              "        vertical-align: middle;\n",
              "    }\n",
              "\n",
              "    .dataframe tbody tr th {\n",
              "        vertical-align: top;\n",
              "    }\n",
              "\n",
              "    .dataframe thead th {\n",
              "        text-align: right;\n",
              "    }\n",
              "</style>\n",
              "<table border=\"1\" class=\"dataframe\">\n",
              "  <thead>\n",
              "    <tr style=\"text-align: right;\">\n",
              "      <th></th>\n",
              "      <th>count</th>\n",
              "      <th>mean</th>\n",
              "      <th>std</th>\n",
              "      <th>min</th>\n",
              "      <th>25%</th>\n",
              "      <th>50%</th>\n",
              "      <th>75%</th>\n",
              "      <th>max</th>\n",
              "    </tr>\n",
              "  </thead>\n",
              "  <tbody>\n",
              "    <tr>\n",
              "      <th>grp_01</th>\n",
              "      <td>16.0</td>\n",
              "      <td>1.3125</td>\n",
              "      <td>2.056494</td>\n",
              "      <td>0.0</td>\n",
              "      <td>0.00</td>\n",
              "      <td>0.0</td>\n",
              "      <td>2.25</td>\n",
              "      <td>6.0</td>\n",
              "    </tr>\n",
              "    <tr>\n",
              "      <th>grp_02</th>\n",
              "      <td>16.0</td>\n",
              "      <td>3.0000</td>\n",
              "      <td>1.632993</td>\n",
              "      <td>0.0</td>\n",
              "      <td>2.00</td>\n",
              "      <td>3.0</td>\n",
              "      <td>4.00</td>\n",
              "      <td>6.0</td>\n",
              "    </tr>\n",
              "    <tr>\n",
              "      <th>grp_03</th>\n",
              "      <td>16.0</td>\n",
              "      <td>4.6875</td>\n",
              "      <td>2.056494</td>\n",
              "      <td>0.0</td>\n",
              "      <td>3.75</td>\n",
              "      <td>6.0</td>\n",
              "      <td>6.00</td>\n",
              "      <td>6.0</td>\n",
              "    </tr>\n",
              "  </tbody>\n",
              "</table>\n",
              "</div>"
            ],
            "text/plain": [
              "        count    mean       std  min   25%  50%   75%  max\n",
              "grp_01   16.0  1.3125  2.056494  0.0  0.00  0.0  2.25  6.0\n",
              "grp_02   16.0  3.0000  1.632993  0.0  2.00  3.0  4.00  6.0\n",
              "grp_03   16.0  4.6875  2.056494  0.0  3.75  6.0  6.00  6.0"
            ]
          },
          "metadata": {
            "tags": []
          },
          "execution_count": 6
        }
      ]
    },
    {
      "metadata": {
        "id": "jAuRmcEyqnCu",
        "colab_type": "text"
      },
      "cell_type": "markdown",
      "source": [
        "### Calculate statistics"
      ]
    },
    {
      "metadata": {
        "id": "Oy3B3LWPpHkt",
        "colab_type": "code",
        "colab": {
          "base_uri": "https://localhost:8080/",
          "height": 272
        },
        "outputId": "c654ff56-747e-49bf-cbf3-9e09cf947dfd"
      },
      "cell_type": "code",
      "source": [
        "# calculate count, mean, median, mode\n",
        "for key, val in d.items():\n",
        "    a = np.array(val)\n",
        "    n = len(a)\n",
        "    mean = np.mean(a)\n",
        "    median = np.median(a)\n",
        "    mode = stats.mode(a) # mode has .mode and .count attributes\n",
        "    print(f\"{key} with {n} samples:\\n\\tmean={mean}\\n\\tmedian={median}\\n\\tmode={mode.mode}\\n\\tmode_count={mode.count}\")"
      ],
      "execution_count": 7,
      "outputs": [
        {
          "output_type": "stream",
          "text": [
            "grp_01 with 16 samples:\n",
            "\tmean=1.3125\n",
            "\tmedian=0.0\n",
            "\tmode=[0]\n",
            "\tmode_count=[10]\n",
            "grp_02 with 16 samples:\n",
            "\tmean=3.0\n",
            "\tmedian=3.0\n",
            "\tmode=[3]\n",
            "\tmode_count=[4]\n",
            "grp_03 with 16 samples:\n",
            "\tmean=4.6875\n",
            "\tmedian=6.0\n",
            "\tmode=[6]\n",
            "\tmode_count=[10]\n"
          ],
          "name": "stdout"
        }
      ]
    },
    {
      "metadata": {
        "id": "zGLCbQrXpHk0",
        "colab_type": "code",
        "colab": {
          "base_uri": "https://localhost:8080/",
          "height": 221
        },
        "outputId": "36a6906a-8e4a-4d20-a854-e44c904a1aed"
      },
      "cell_type": "code",
      "source": [
        "# calculate variance, standard deviation, standard error\n",
        "for key, val in d.items():\n",
        "    a = np.array(val)\n",
        "    var = np.var(a, axis=None)\n",
        "    s = np.std(a, ddof=1) # The divisor used in calculations is N - ddof, where N represents the number of elements. By default ddof is zero.\n",
        "    sem = s / np.sqrt(n) # calculate standard error using numpy\n",
        "#     sem = stats.sem(a) # calculate standard error using scipy\n",
        "    print(f\"{key} with {n} samples:\\n\\tvar={var}\\n\\tstandard deviation={s}\\n\\tstandard error={sem}\")\n"
      ],
      "execution_count": 8,
      "outputs": [
        {
          "output_type": "stream",
          "text": [
            "grp_01 with 16 samples:\n",
            "\tvar=3.96484375\n",
            "\tstandard deviation=2.056493779875511\n",
            "\tstandard error=0.5141234449688777\n",
            "grp_02 with 16 samples:\n",
            "\tvar=2.5\n",
            "\tstandard deviation=1.632993161855452\n",
            "\tstandard error=0.408248290463863\n",
            "grp_03 with 16 samples:\n",
            "\tvar=3.96484375\n",
            "\tstandard deviation=2.056493779875511\n",
            "\tstandard error=0.5141234449688777\n"
          ],
          "name": "stdout"
        }
      ]
    },
    {
      "metadata": {
        "id": "I6_bbJsnqxBj",
        "colab_type": "text"
      },
      "cell_type": "markdown",
      "source": [
        "### Plot histogram with matplotlib"
      ]
    },
    {
      "metadata": {
        "id": "fNoHGjEypHk6",
        "colab_type": "code",
        "colab": {}
      },
      "cell_type": "code",
      "source": [
        "# enable inline plotting in Jupyter notebook\n",
        "%matplotlib inline"
      ],
      "execution_count": 0,
      "outputs": []
    },
    {
      "metadata": {
        "id": "BAVMHtWWpHk_",
        "colab_type": "code",
        "colab": {
          "base_uri": "https://localhost:8080/",
          "height": 857
        },
        "outputId": "6d71b044-28a6-4505-e42e-2583e4c68a1b"
      },
      "cell_type": "code",
      "source": [
        "# graph histogram distribution of values in each group\n",
        "for key, val in d.items():\n",
        "    fig, ax = plt.subplots()\n",
        "    num_bins = 7\n",
        "    a = d[key]\n",
        "    mu = np.mean(a)\n",
        "    sigma = np.std(a)\n",
        "    n, bins, patches = ax.hist(a, num_bins, density=1)\n",
        "    ax.set_xlabel('x')\n",
        "    ax.set_ylabel('frequency')\n",
        "    ax.set_title(f'Frequency of x: mu={mu}, sigma={sigma}')\n",
        "    fig.tight_layout()\n",
        "    plt.show()"
      ],
      "execution_count": 10,
      "outputs": [
        {
          "output_type": "display_data",
          "data": {
            "image/png": "[encoded data removed]",
            "text/plain": [
              "<matplotlib.figure.Figure at 0x7fc90c993860>"
            ]
          },
          "metadata": {
            "tags": []
          }
        },
        {
          "output_type": "display_data",
          "data": {
            "image/png": "[encoded data removed]",
            "text/plain": [
              "<matplotlib.figure.Figure at 0x7fc90c92b208>"
            ]
          },
          "metadata": {
            "tags": []
          }
        },
        {
          "output_type": "display_data",
          "data": {
            "image/png": "[encoded data removed]",
            "text/plain": [
              "<matplotlib.figure.Figure at 0x7fc90a054e48>"
            ]
          },
          "metadata": {
            "tags": []
          }
        }
      ]
    },
    {
      "metadata": {
        "id": "ccOtQQqGq98F",
        "colab_type": "text"
      },
      "cell_type": "markdown",
      "source": [
        "### Plot histogram with Altair"
      ]
    },
    {
      "metadata": {
        "id": "rzylOUIerCwP",
        "colab_type": "code",
        "colab": {
          "base_uri": "https://localhost:8080/",
          "height": 389
        },
        "outputId": "7b4139a5-a2b5-4883-bd79-9483062d0e57"
      },
      "cell_type": "code",
      "source": [
        "# plot the dataset, referencing dataframe column names\n",
        "import altair as alt\n",
        "\n",
        "bar = alt.Chart(df).mark_bar().encode(\n",
        "    alt.X('grp_01', bin=True),\n",
        "    alt.Y('count()')\n",
        ")\n",
        "\n",
        "rule = alt.Chart(df).mark_rule(color='red').encode(\n",
        "    x='mean(grp_01):Q',\n",
        "    size=alt.value(5)\n",
        ")\n",
        "\n",
        "bar + rule\n"
      ],
      "execution_count": 67,
      "outputs": [
        {
          "output_type": "execute_result",
          "data": {
            "text/plain": [
              "LayerChart({\n",
              "  layer: [Chart({\n",
              "    data:     grp_01  grp_02  grp_03\n",
              "    0        0       0       0\n",
              "    1        0       1       1\n",
              "    2        0       1       2\n",
              "    3        0       2       3\n",
              "    4        0       2       4\n",
              "    5        0       2       5\n",
              "    6        0       3       6\n",
              "    7        0       3       6\n",
              "    8        0       3       6\n",
              "    9        0       3       6\n",
              "    10       1       4       6\n",
              "    11       2       4       6\n",
              "    12       3       4       6\n",
              "    13       4       5       6\n",
              "    14       5       5       6\n",
              "    15       6       6       6,\n",
              "    encoding: EncodingWithFacet({\n",
              "      x: X({\n",
              "        bin: True,\n",
              "        shorthand: 'grp_01'\n",
              "      }),\n",
              "      y: Y({\n",
              "        shorthand: 'count()'\n",
              "      })\n",
              "    }),\n",
              "    mark: 'bar'\n",
              "  }), Chart({\n",
              "    data:     grp_01  grp_02  grp_03\n",
              "    0        0       0       0\n",
              "    1        0       1       1\n",
              "    2        0       1       2\n",
              "    3        0       2       3\n",
              "    4        0       2       4\n",
              "    5        0       2       5\n",
              "    6        0       3       6\n",
              "    7        0       3       6\n",
              "    8        0       3       6\n",
              "    9        0       3       6\n",
              "    10       1       4       6\n",
              "    11       2       4       6\n",
              "    12       3       4       6\n",
              "    13       4       5       6\n",
              "    14       5       5       6\n",
              "    15       6       6       6,\n",
              "    encoding: EncodingWithFacet({\n",
              "      size: SizeValue({\n",
              "        value: 5\n",
              "      }),\n",
              "      x: X({\n",
              "        shorthand: 'mean(grp_01):Q'\n",
              "      })\n",
              "    }),\n",
              "    mark: MarkDef({\n",
              "      color: 'red',\n",
              "      type: 'rule'\n",
              "    })\n",
              "  })]\n",
              "})"
            ],
            "text/html": [
              "\n",
              "<!DOCTYPE html>\n",
              "<html>\n",
              "<head>\n",
              "  <style>\n",
              "    .vega-actions a {\n",
              "        margin-right: 12px;\n",
              "        color: #757575;\n",
              "        font-weight: normal;\n",
              "        font-size: 13px;\n",
              "    }\n",
              "    .error {\n",
              "        color: red;\n",
              "    }\n",
              "  </style>\n",
              "\n",
              "<script src=\"https://cdn.jsdelivr.net/npm//vega@3.3.1\"></script>\n",
              "<script src=\"https://cdn.jsdelivr.net/npm//vega-lite@2.6.0\"></script>\n",
              "<script src=\"https://cdn.jsdelivr.net/npm//vega-embed@3.14\"></script>\n",
              "\n",
              "</head>\n",
              "<body>\n",
              "  <div id=\"vis\"></div>\n",
              "  <script type=\"text/javascript\">\n",
              "    var spec = {\"config\": {\"view\": {\"width\": 400, \"height\": 300}}, \"layer\": [{\"data\": {\"name\": \"data-cdc3fe708d29c7d6632e1288b05d46e9\"}, \"mark\": \"bar\", \"encoding\": {\"x\": {\"type\": \"quantitative\", \"bin\": true, \"field\": \"grp_01\"}, \"y\": {\"type\": \"quantitative\", \"aggregate\": \"count\"}}}, {\"data\": {\"name\": \"data-cdc3fe708d29c7d6632e1288b05d46e9\"}, \"mark\": {\"type\": \"rule\", \"color\": \"red\"}, \"encoding\": {\"size\": {\"value\": 5}, \"x\": {\"type\": \"quantitative\", \"aggregate\": \"mean\", \"field\": \"grp_01\"}}}], \"$schema\": \"https://vega.github.io/schema/vega-lite/v2.6.0.json\", \"datasets\": {\"data-cdc3fe708d29c7d6632e1288b05d46e9\": [{\"grp_01\": 0, \"grp_02\": 0, \"grp_03\": 0}, {\"grp_01\": 0, \"grp_02\": 1, \"grp_03\": 1}, {\"grp_01\": 0, \"grp_02\": 1, \"grp_03\": 2}, {\"grp_01\": 0, \"grp_02\": 2, \"grp_03\": 3}, {\"grp_01\": 0, \"grp_02\": 2, \"grp_03\": 4}, {\"grp_01\": 0, \"grp_02\": 2, \"grp_03\": 5}, {\"grp_01\": 0, \"grp_02\": 3, \"grp_03\": 6}, {\"grp_01\": 0, \"grp_02\": 3, \"grp_03\": 6}, {\"grp_01\": 0, \"grp_02\": 3, \"grp_03\": 6}, {\"grp_01\": 0, \"grp_02\": 3, \"grp_03\": 6}, {\"grp_01\": 1, \"grp_02\": 4, \"grp_03\": 6}, {\"grp_01\": 2, \"grp_02\": 4, \"grp_03\": 6}, {\"grp_01\": 3, \"grp_02\": 4, \"grp_03\": 6}, {\"grp_01\": 4, \"grp_02\": 5, \"grp_03\": 6}, {\"grp_01\": 5, \"grp_02\": 5, \"grp_03\": 6}, {\"grp_01\": 6, \"grp_02\": 6, \"grp_03\": 6}]}};\n",
              "    var embed_opt = {\"mode\": \"vega-lite\"};\n",
              "\n",
              "    function showError(el, error){\n",
              "        el.innerHTML = ('<div class=\"error\">'\n",
              "                        + '<p>JavaScript Error: ' + error.message + '</p>'\n",
              "                        + \"<p>This usually means there's a typo in your chart specification. \"\n",
              "                        + \"See the javascript console for the full traceback.</p>\"\n",
              "                        + '</div>');\n",
              "        throw error;\n",
              "    }\n",
              "    const el = document.getElementById('vis');\n",
              "    vegaEmbed(\"#vis\", spec, embed_opt)\n",
              "      .catch(error => showError(el, error));\n",
              "  </script>\n",
              "</body>\n",
              "</html>\n"
            ]
          },
          "metadata": {
            "tags": []
          },
          "execution_count": 67
        }
      ]
    },
    {
      "metadata": {
        "id": "Ih0lWyiyO_JW",
        "colab_type": "code",
        "colab": {
          "base_uri": "https://localhost:8080/",
          "height": 389
        },
        "outputId": "6b897554-0775-45bd-d377-62e48e3d1d46"
      },
      "cell_type": "code",
      "source": [
        "# plot the dataset, referencing dataframe column names\n",
        "import altair as alt\n",
        "\n",
        "bar = alt.Chart(df).mark_bar().encode(\n",
        "    alt.X('grp_02', bin=True),\n",
        "    alt.Y('count()')\n",
        ")\n",
        "\n",
        "rule = alt.Chart(df).mark_rule(color='red').encode(\n",
        "    x='mean(grp_02):Q',\n",
        "    size=alt.value(5)\n",
        ")\n",
        "\n",
        "bar + rule"
      ],
      "execution_count": 68,
      "outputs": [
        {
          "output_type": "execute_result",
          "data": {
            "text/plain": [
              "LayerChart({\n",
              "  layer: [Chart({\n",
              "    data:     grp_01  grp_02  grp_03\n",
              "    0        0       0       0\n",
              "    1        0       1       1\n",
              "    2        0       1       2\n",
              "    3        0       2       3\n",
              "    4        0       2       4\n",
              "    5        0       2       5\n",
              "    6        0       3       6\n",
              "    7        0       3       6\n",
              "    8        0       3       6\n",
              "    9        0       3       6\n",
              "    10       1       4       6\n",
              "    11       2       4       6\n",
              "    12       3       4       6\n",
              "    13       4       5       6\n",
              "    14       5       5       6\n",
              "    15       6       6       6,\n",
              "    encoding: EncodingWithFacet({\n",
              "      x: X({\n",
              "        bin: True,\n",
              "        shorthand: 'grp_02'\n",
              "      }),\n",
              "      y: Y({\n",
              "        shorthand: 'count()'\n",
              "      })\n",
              "    }),\n",
              "    mark: 'bar'\n",
              "  }), Chart({\n",
              "    data:     grp_01  grp_02  grp_03\n",
              "    0        0       0       0\n",
              "    1        0       1       1\n",
              "    2        0       1       2\n",
              "    3        0       2       3\n",
              "    4        0       2       4\n",
              "    5        0       2       5\n",
              "    6        0       3       6\n",
              "    7        0       3       6\n",
              "    8        0       3       6\n",
              "    9        0       3       6\n",
              "    10       1       4       6\n",
              "    11       2       4       6\n",
              "    12       3       4       6\n",
              "    13       4       5       6\n",
              "    14       5       5       6\n",
              "    15       6       6       6,\n",
              "    encoding: EncodingWithFacet({\n",
              "      size: SizeValue({\n",
              "        value: 5\n",
              "      }),\n",
              "      x: X({\n",
              "        shorthand: 'mean(grp_02):Q'\n",
              "      })\n",
              "    }),\n",
              "    mark: MarkDef({\n",
              "      color: 'red',\n",
              "      type: 'rule'\n",
              "    })\n",
              "  })]\n",
              "})"
            ],
            "text/html": [
              "\n",
              "<!DOCTYPE html>\n",
              "<html>\n",
              "<head>\n",
              "  <style>\n",
              "    .vega-actions a {\n",
              "        margin-right: 12px;\n",
              "        color: #757575;\n",
              "        font-weight: normal;\n",
              "        font-size: 13px;\n",
              "    }\n",
              "    .error {\n",
              "        color: red;\n",
              "    }\n",
              "  </style>\n",
              "\n",
              "<script src=\"https://cdn.jsdelivr.net/npm//vega@3.3.1\"></script>\n",
              "<script src=\"https://cdn.jsdelivr.net/npm//vega-lite@2.6.0\"></script>\n",
              "<script src=\"https://cdn.jsdelivr.net/npm//vega-embed@3.14\"></script>\n",
              "\n",
              "</head>\n",
              "<body>\n",
              "  <div id=\"vis\"></div>\n",
              "  <script type=\"text/javascript\">\n",
              "    var spec = {\"config\": {\"view\": {\"width\": 400, \"height\": 300}}, \"layer\": [{\"data\": {\"name\": \"data-cdc3fe708d29c7d6632e1288b05d46e9\"}, \"mark\": \"bar\", \"encoding\": {\"x\": {\"type\": \"quantitative\", \"bin\": true, \"field\": \"grp_02\"}, \"y\": {\"type\": \"quantitative\", \"aggregate\": \"count\"}}}, {\"data\": {\"name\": \"data-cdc3fe708d29c7d6632e1288b05d46e9\"}, \"mark\": {\"type\": \"rule\", \"color\": \"red\"}, \"encoding\": {\"size\": {\"value\": 5}, \"x\": {\"type\": \"quantitative\", \"aggregate\": \"mean\", \"field\": \"grp_02\"}}}], \"$schema\": \"https://vega.github.io/schema/vega-lite/v2.6.0.json\", \"datasets\": {\"data-cdc3fe708d29c7d6632e1288b05d46e9\": [{\"grp_01\": 0, \"grp_02\": 0, \"grp_03\": 0}, {\"grp_01\": 0, \"grp_02\": 1, \"grp_03\": 1}, {\"grp_01\": 0, \"grp_02\": 1, \"grp_03\": 2}, {\"grp_01\": 0, \"grp_02\": 2, \"grp_03\": 3}, {\"grp_01\": 0, \"grp_02\": 2, \"grp_03\": 4}, {\"grp_01\": 0, \"grp_02\": 2, \"grp_03\": 5}, {\"grp_01\": 0, \"grp_02\": 3, \"grp_03\": 6}, {\"grp_01\": 0, \"grp_02\": 3, \"grp_03\": 6}, {\"grp_01\": 0, \"grp_02\": 3, \"grp_03\": 6}, {\"grp_01\": 0, \"grp_02\": 3, \"grp_03\": 6}, {\"grp_01\": 1, \"grp_02\": 4, \"grp_03\": 6}, {\"grp_01\": 2, \"grp_02\": 4, \"grp_03\": 6}, {\"grp_01\": 3, \"grp_02\": 4, \"grp_03\": 6}, {\"grp_01\": 4, \"grp_02\": 5, \"grp_03\": 6}, {\"grp_01\": 5, \"grp_02\": 5, \"grp_03\": 6}, {\"grp_01\": 6, \"grp_02\": 6, \"grp_03\": 6}]}};\n",
              "    var embed_opt = {\"mode\": \"vega-lite\"};\n",
              "\n",
              "    function showError(el, error){\n",
              "        el.innerHTML = ('<div class=\"error\">'\n",
              "                        + '<p>JavaScript Error: ' + error.message + '</p>'\n",
              "                        + \"<p>This usually means there's a typo in your chart specification. \"\n",
              "                        + \"See the javascript console for the full traceback.</p>\"\n",
              "                        + '</div>');\n",
              "        throw error;\n",
              "    }\n",
              "    const el = document.getElementById('vis');\n",
              "    vegaEmbed(\"#vis\", spec, embed_opt)\n",
              "      .catch(error => showError(el, error));\n",
              "  </script>\n",
              "</body>\n",
              "</html>\n"
            ]
          },
          "metadata": {
            "tags": []
          },
          "execution_count": 68
        }
      ]
    },
    {
      "metadata": {
        "id": "TedBslnAPKqQ",
        "colab_type": "code",
        "colab": {
          "base_uri": "https://localhost:8080/",
          "height": 389
        },
        "outputId": "bdc5de0b-dab5-4366-8d56-a9238f93b0a3"
      },
      "cell_type": "code",
      "source": [
        "# plot the dataset, referencing dataframe column names\n",
        "import altair as alt\n",
        "\n",
        "bar = alt.Chart(df).mark_bar().encode(\n",
        "    alt.X('grp_03', bin=True),\n",
        "    alt.Y('count()')\n",
        ")\n",
        "\n",
        "rule = alt.Chart(df).mark_rule(color='red').encode(\n",
        "    x='mean(grp_03):Q',\n",
        "    size=alt.value(5)\n",
        ")\n",
        "\n",
        "bar + rule"
      ],
      "execution_count": 69,
      "outputs": [
        {
          "output_type": "execute_result",
          "data": {
            "text/plain": [
              "LayerChart({\n",
              "  layer: [Chart({\n",
              "    data:     grp_01  grp_02  grp_03\n",
              "    0        0       0       0\n",
              "    1        0       1       1\n",
              "    2        0       1       2\n",
              "    3        0       2       3\n",
              "    4        0       2       4\n",
              "    5        0       2       5\n",
              "    6        0       3       6\n",
              "    7        0       3       6\n",
              "    8        0       3       6\n",
              "    9        0       3       6\n",
              "    10       1       4       6\n",
              "    11       2       4       6\n",
              "    12       3       4       6\n",
              "    13       4       5       6\n",
              "    14       5       5       6\n",
              "    15       6       6       6,\n",
              "    encoding: EncodingWithFacet({\n",
              "      x: X({\n",
              "        bin: True,\n",
              "        shorthand: 'grp_03'\n",
              "      }),\n",
              "      y: Y({\n",
              "        shorthand: 'count()'\n",
              "      })\n",
              "    }),\n",
              "    mark: 'bar'\n",
              "  }), Chart({\n",
              "    data:     grp_01  grp_02  grp_03\n",
              "    0        0       0       0\n",
              "    1        0       1       1\n",
              "    2        0       1       2\n",
              "    3        0       2       3\n",
              "    4        0       2       4\n",
              "    5        0       2       5\n",
              "    6        0       3       6\n",
              "    7        0       3       6\n",
              "    8        0       3       6\n",
              "    9        0       3       6\n",
              "    10       1       4       6\n",
              "    11       2       4       6\n",
              "    12       3       4       6\n",
              "    13       4       5       6\n",
              "    14       5       5       6\n",
              "    15       6       6       6,\n",
              "    encoding: EncodingWithFacet({\n",
              "      size: SizeValue({\n",
              "        value: 5\n",
              "      }),\n",
              "      x: X({\n",
              "        shorthand: 'mean(grp_03):Q'\n",
              "      })\n",
              "    }),\n",
              "    mark: MarkDef({\n",
              "      color: 'red',\n",
              "      type: 'rule'\n",
              "    })\n",
              "  })]\n",
              "})"
            ],
            "text/html": [
              "\n",
              "<!DOCTYPE html>\n",
              "<html>\n",
              "<head>\n",
              "  <style>\n",
              "    .vega-actions a {\n",
              "        margin-right: 12px;\n",
              "        color: #757575;\n",
              "        font-weight: normal;\n",
              "        font-size: 13px;\n",
              "    }\n",
              "    .error {\n",
              "        color: red;\n",
              "    }\n",
              "  </style>\n",
              "\n",
              "<script src=\"https://cdn.jsdelivr.net/npm//vega@3.3.1\"></script>\n",
              "<script src=\"https://cdn.jsdelivr.net/npm//vega-lite@2.6.0\"></script>\n",
              "<script src=\"https://cdn.jsdelivr.net/npm//vega-embed@3.14\"></script>\n",
              "\n",
              "</head>\n",
              "<body>\n",
              "  <div id=\"vis\"></div>\n",
              "  <script type=\"text/javascript\">\n",
              "    var spec = {\"config\": {\"view\": {\"width\": 400, \"height\": 300}}, \"layer\": [{\"data\": {\"name\": \"data-cdc3fe708d29c7d6632e1288b05d46e9\"}, \"mark\": \"bar\", \"encoding\": {\"x\": {\"type\": \"quantitative\", \"bin\": true, \"field\": \"grp_03\"}, \"y\": {\"type\": \"quantitative\", \"aggregate\": \"count\"}}}, {\"data\": {\"name\": \"data-cdc3fe708d29c7d6632e1288b05d46e9\"}, \"mark\": {\"type\": \"rule\", \"color\": \"red\"}, \"encoding\": {\"size\": {\"value\": 5}, \"x\": {\"type\": \"quantitative\", \"aggregate\": \"mean\", \"field\": \"grp_03\"}}}], \"$schema\": \"https://vega.github.io/schema/vega-lite/v2.6.0.json\", \"datasets\": {\"data-cdc3fe708d29c7d6632e1288b05d46e9\": [{\"grp_01\": 0, \"grp_02\": 0, \"grp_03\": 0}, {\"grp_01\": 0, \"grp_02\": 1, \"grp_03\": 1}, {\"grp_01\": 0, \"grp_02\": 1, \"grp_03\": 2}, {\"grp_01\": 0, \"grp_02\": 2, \"grp_03\": 3}, {\"grp_01\": 0, \"grp_02\": 2, \"grp_03\": 4}, {\"grp_01\": 0, \"grp_02\": 2, \"grp_03\": 5}, {\"grp_01\": 0, \"grp_02\": 3, \"grp_03\": 6}, {\"grp_01\": 0, \"grp_02\": 3, \"grp_03\": 6}, {\"grp_01\": 0, \"grp_02\": 3, \"grp_03\": 6}, {\"grp_01\": 0, \"grp_02\": 3, \"grp_03\": 6}, {\"grp_01\": 1, \"grp_02\": 4, \"grp_03\": 6}, {\"grp_01\": 2, \"grp_02\": 4, \"grp_03\": 6}, {\"grp_01\": 3, \"grp_02\": 4, \"grp_03\": 6}, {\"grp_01\": 4, \"grp_02\": 5, \"grp_03\": 6}, {\"grp_01\": 5, \"grp_02\": 5, \"grp_03\": 6}, {\"grp_01\": 6, \"grp_02\": 6, \"grp_03\": 6}]}};\n",
              "    var embed_opt = {\"mode\": \"vega-lite\"};\n",
              "\n",
              "    function showError(el, error){\n",
              "        el.innerHTML = ('<div class=\"error\">'\n",
              "                        + '<p>JavaScript Error: ' + error.message + '</p>'\n",
              "                        + \"<p>This usually means there's a typo in your chart specification. \"\n",
              "                        + \"See the javascript console for the full traceback.</p>\"\n",
              "                        + '</div>');\n",
              "        throw error;\n",
              "    }\n",
              "    const el = document.getElementById('vis');\n",
              "    vegaEmbed(\"#vis\", spec, embed_opt)\n",
              "      .catch(error => showError(el, error));\n",
              "  </script>\n",
              "</body>\n",
              "</html>\n"
            ]
          },
          "metadata": {
            "tags": []
          },
          "execution_count": 69
        }
      ]
    }
  ]
}