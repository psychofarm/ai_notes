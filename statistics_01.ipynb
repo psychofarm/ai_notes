{
 "cells": [
  {
   "cell_type": "markdown",
   "metadata": {},
   "source": [
    "## Statistics 01\n",
    "### Example code for finding statistics using a dictionary with three lists of integers.\n",
    "#### Key concepts:\n",
    "+ mean, mode, median, variance, standard deviation\n",
    "\n",
    "#### Code overview:\n",
    "+ Code samples built from matplotlib, numpy, pandas, scipy\n",
    "+ Create a dictionary\n",
    "+ Create a pandas DataFrame from the dictionary\n",
    "+ Use describe() method to show statistics with original vertical view\n",
    "+ Use describe() method to show statistics with transposed horizontal view\n",
    "+ Show count, mean, mode, median\n",
    "+ Show variance, standard deviation, standard error (optional use scipy or numpy)\n",
    "+ Enable inline plotting with Jupyter magic\n",
    "+ Graph histogram distribution of values in each group"
   ]
  },
  {
   "cell_type": "code",
   "execution_count": 22,
   "metadata": {},
   "outputs": [],
   "source": [
    "# import needed libraries\n",
    "import matplotlib.pyplot as plt\n",
    "import numpy as np\n",
    "import pandas as pd\n",
    "\n",
    "from scipy import stats"
   ]
  },
  {
   "cell_type": "code",
   "execution_count": 28,
   "metadata": {},
   "outputs": [
    {
     "data": {
      "text/plain": [
       "{'grp_01': [0, 0, 0, 0, 0, 0, 0, 0, 0, 0, 1, 2, 3, 4, 5, 6],\n",
       " 'grp_02': [0, 1, 1, 2, 2, 2, 3, 3, 3, 3, 4, 4, 4, 5, 5, 6],\n",
       " 'grp_03': [0, 1, 2, 3, 4, 5, 6, 6, 6, 6, 6, 6, 6, 6, 6, 6]}"
      ]
     },
     "execution_count": 28,
     "metadata": {},
     "output_type": "execute_result"
    }
   ],
   "source": [
    "# create a dictionary\n",
    "d = {\n",
    "    \"grp_01\": [0, 0, 0, 0, 0, 0, 0, 0, 0, 0, 1, 2, 3, 4, 5, 6],\n",
    "    \"grp_02\": [0, 1, 1, 2, 2, 2, 3, 3, 3, 3, 4, 4, 4, 5, 5, 6],\n",
    "    \"grp_03\": [0, 1, 2, 3, 4, 5, 6, 6, 6, 6, 6, 6, 6, 6, 6, 6,]\n",
    "}\n",
    "d"
   ]
  },
  {
   "cell_type": "code",
   "execution_count": 29,
   "metadata": {},
   "outputs": [
    {
     "data": {
      "text/html": [
       "<div>\n",
       "<style scoped>\n",
       "    .dataframe tbody tr th:only-of-type {\n",
       "        vertical-align: middle;\n",
       "    }\n",
       "\n",
       "    .dataframe tbody tr th {\n",
       "        vertical-align: top;\n",
       "    }\n",
       "\n",
       "    .dataframe thead th {\n",
       "        text-align: right;\n",
       "    }\n",
       "</style>\n",
       "<table border=\"1\" class=\"dataframe\">\n",
       "  <thead>\n",
       "    <tr style=\"text-align: right;\">\n",
       "      <th></th>\n",
       "      <th>grp_01</th>\n",
       "      <th>grp_02</th>\n",
       "      <th>grp_03</th>\n",
       "    </tr>\n",
       "  </thead>\n",
       "  <tbody>\n",
       "    <tr>\n",
       "      <th>0</th>\n",
       "      <td>0</td>\n",
       "      <td>0</td>\n",
       "      <td>0</td>\n",
       "    </tr>\n",
       "    <tr>\n",
       "      <th>1</th>\n",
       "      <td>0</td>\n",
       "      <td>1</td>\n",
       "      <td>1</td>\n",
       "    </tr>\n",
       "    <tr>\n",
       "      <th>2</th>\n",
       "      <td>0</td>\n",
       "      <td>1</td>\n",
       "      <td>2</td>\n",
       "    </tr>\n",
       "    <tr>\n",
       "      <th>3</th>\n",
       "      <td>0</td>\n",
       "      <td>2</td>\n",
       "      <td>3</td>\n",
       "    </tr>\n",
       "    <tr>\n",
       "      <th>4</th>\n",
       "      <td>0</td>\n",
       "      <td>2</td>\n",
       "      <td>4</td>\n",
       "    </tr>\n",
       "    <tr>\n",
       "      <th>5</th>\n",
       "      <td>0</td>\n",
       "      <td>2</td>\n",
       "      <td>5</td>\n",
       "    </tr>\n",
       "    <tr>\n",
       "      <th>6</th>\n",
       "      <td>0</td>\n",
       "      <td>3</td>\n",
       "      <td>6</td>\n",
       "    </tr>\n",
       "    <tr>\n",
       "      <th>7</th>\n",
       "      <td>0</td>\n",
       "      <td>3</td>\n",
       "      <td>6</td>\n",
       "    </tr>\n",
       "    <tr>\n",
       "      <th>8</th>\n",
       "      <td>0</td>\n",
       "      <td>3</td>\n",
       "      <td>6</td>\n",
       "    </tr>\n",
       "    <tr>\n",
       "      <th>9</th>\n",
       "      <td>0</td>\n",
       "      <td>3</td>\n",
       "      <td>6</td>\n",
       "    </tr>\n",
       "    <tr>\n",
       "      <th>10</th>\n",
       "      <td>1</td>\n",
       "      <td>4</td>\n",
       "      <td>6</td>\n",
       "    </tr>\n",
       "    <tr>\n",
       "      <th>11</th>\n",
       "      <td>2</td>\n",
       "      <td>4</td>\n",
       "      <td>6</td>\n",
       "    </tr>\n",
       "    <tr>\n",
       "      <th>12</th>\n",
       "      <td>3</td>\n",
       "      <td>4</td>\n",
       "      <td>6</td>\n",
       "    </tr>\n",
       "    <tr>\n",
       "      <th>13</th>\n",
       "      <td>4</td>\n",
       "      <td>5</td>\n",
       "      <td>6</td>\n",
       "    </tr>\n",
       "    <tr>\n",
       "      <th>14</th>\n",
       "      <td>5</td>\n",
       "      <td>5</td>\n",
       "      <td>6</td>\n",
       "    </tr>\n",
       "    <tr>\n",
       "      <th>15</th>\n",
       "      <td>6</td>\n",
       "      <td>6</td>\n",
       "      <td>6</td>\n",
       "    </tr>\n",
       "  </tbody>\n",
       "</table>\n",
       "</div>"
      ],
      "text/plain": [
       "    grp_01  grp_02  grp_03\n",
       "0        0       0       0\n",
       "1        0       1       1\n",
       "2        0       1       2\n",
       "3        0       2       3\n",
       "4        0       2       4\n",
       "5        0       2       5\n",
       "6        0       3       6\n",
       "7        0       3       6\n",
       "8        0       3       6\n",
       "9        0       3       6\n",
       "10       1       4       6\n",
       "11       2       4       6\n",
       "12       3       4       6\n",
       "13       4       5       6\n",
       "14       5       5       6\n",
       "15       6       6       6"
      ]
     },
     "execution_count": 29,
     "metadata": {},
     "output_type": "execute_result"
    }
   ],
   "source": [
    "# create pandas DataFrame from dictionary\n",
    "df = pd.DataFrame(d)\n",
    "df"
   ]
  },
  {
   "cell_type": "code",
   "execution_count": 30,
   "metadata": {},
   "outputs": [
    {
     "data": {
      "text/html": [
       "<div>\n",
       "<style scoped>\n",
       "    .dataframe tbody tr th:only-of-type {\n",
       "        vertical-align: middle;\n",
       "    }\n",
       "\n",
       "    .dataframe tbody tr th {\n",
       "        vertical-align: top;\n",
       "    }\n",
       "\n",
       "    .dataframe thead th {\n",
       "        text-align: right;\n",
       "    }\n",
       "</style>\n",
       "<table border=\"1\" class=\"dataframe\">\n",
       "  <thead>\n",
       "    <tr style=\"text-align: right;\">\n",
       "      <th></th>\n",
       "      <th>grp_01</th>\n",
       "      <th>grp_02</th>\n",
       "      <th>grp_03</th>\n",
       "    </tr>\n",
       "  </thead>\n",
       "  <tbody>\n",
       "    <tr>\n",
       "      <th>count</th>\n",
       "      <td>16.000000</td>\n",
       "      <td>16.000000</td>\n",
       "      <td>16.000000</td>\n",
       "    </tr>\n",
       "    <tr>\n",
       "      <th>mean</th>\n",
       "      <td>1.312500</td>\n",
       "      <td>3.000000</td>\n",
       "      <td>4.687500</td>\n",
       "    </tr>\n",
       "    <tr>\n",
       "      <th>std</th>\n",
       "      <td>2.056494</td>\n",
       "      <td>1.632993</td>\n",
       "      <td>2.056494</td>\n",
       "    </tr>\n",
       "    <tr>\n",
       "      <th>min</th>\n",
       "      <td>0.000000</td>\n",
       "      <td>0.000000</td>\n",
       "      <td>0.000000</td>\n",
       "    </tr>\n",
       "    <tr>\n",
       "      <th>25%</th>\n",
       "      <td>0.000000</td>\n",
       "      <td>2.000000</td>\n",
       "      <td>3.750000</td>\n",
       "    </tr>\n",
       "    <tr>\n",
       "      <th>50%</th>\n",
       "      <td>0.000000</td>\n",
       "      <td>3.000000</td>\n",
       "      <td>6.000000</td>\n",
       "    </tr>\n",
       "    <tr>\n",
       "      <th>75%</th>\n",
       "      <td>2.250000</td>\n",
       "      <td>4.000000</td>\n",
       "      <td>6.000000</td>\n",
       "    </tr>\n",
       "    <tr>\n",
       "      <th>max</th>\n",
       "      <td>6.000000</td>\n",
       "      <td>6.000000</td>\n",
       "      <td>6.000000</td>\n",
       "    </tr>\n",
       "  </tbody>\n",
       "</table>\n",
       "</div>"
      ],
      "text/plain": [
       "          grp_01     grp_02     grp_03\n",
       "count  16.000000  16.000000  16.000000\n",
       "mean    1.312500   3.000000   4.687500\n",
       "std     2.056494   1.632993   2.056494\n",
       "min     0.000000   0.000000   0.000000\n",
       "25%     0.000000   2.000000   3.750000\n",
       "50%     0.000000   3.000000   6.000000\n",
       "75%     2.250000   4.000000   6.000000\n",
       "max     6.000000   6.000000   6.000000"
      ]
     },
     "execution_count": 30,
     "metadata": {},
     "output_type": "execute_result"
    }
   ],
   "source": [
    "# print statistics describing df (normal vertical format)\n",
    "stats_v = df.describe()\n",
    "stats_v"
   ]
  },
  {
   "cell_type": "code",
   "execution_count": 31,
   "metadata": {},
   "outputs": [
    {
     "data": {
      "text/html": [
       "<div>\n",
       "<style scoped>\n",
       "    .dataframe tbody tr th:only-of-type {\n",
       "        vertical-align: middle;\n",
       "    }\n",
       "\n",
       "    .dataframe tbody tr th {\n",
       "        vertical-align: top;\n",
       "    }\n",
       "\n",
       "    .dataframe thead th {\n",
       "        text-align: right;\n",
       "    }\n",
       "</style>\n",
       "<table border=\"1\" class=\"dataframe\">\n",
       "  <thead>\n",
       "    <tr style=\"text-align: right;\">\n",
       "      <th></th>\n",
       "      <th>count</th>\n",
       "      <th>mean</th>\n",
       "      <th>std</th>\n",
       "      <th>min</th>\n",
       "      <th>25%</th>\n",
       "      <th>50%</th>\n",
       "      <th>75%</th>\n",
       "      <th>max</th>\n",
       "    </tr>\n",
       "  </thead>\n",
       "  <tbody>\n",
       "    <tr>\n",
       "      <th>grp_01</th>\n",
       "      <td>16.0</td>\n",
       "      <td>1.3125</td>\n",
       "      <td>2.056494</td>\n",
       "      <td>0.0</td>\n",
       "      <td>0.00</td>\n",
       "      <td>0.0</td>\n",
       "      <td>2.25</td>\n",
       "      <td>6.0</td>\n",
       "    </tr>\n",
       "    <tr>\n",
       "      <th>grp_02</th>\n",
       "      <td>16.0</td>\n",
       "      <td>3.0000</td>\n",
       "      <td>1.632993</td>\n",
       "      <td>0.0</td>\n",
       "      <td>2.00</td>\n",
       "      <td>3.0</td>\n",
       "      <td>4.00</td>\n",
       "      <td>6.0</td>\n",
       "    </tr>\n",
       "    <tr>\n",
       "      <th>grp_03</th>\n",
       "      <td>16.0</td>\n",
       "      <td>4.6875</td>\n",
       "      <td>2.056494</td>\n",
       "      <td>0.0</td>\n",
       "      <td>3.75</td>\n",
       "      <td>6.0</td>\n",
       "      <td>6.00</td>\n",
       "      <td>6.0</td>\n",
       "    </tr>\n",
       "  </tbody>\n",
       "</table>\n",
       "</div>"
      ],
      "text/plain": [
       "        count    mean       std  min   25%  50%   75%  max\n",
       "grp_01   16.0  1.3125  2.056494  0.0  0.00  0.0  2.25  6.0\n",
       "grp_02   16.0  3.0000  1.632993  0.0  2.00  3.0  4.00  6.0\n",
       "grp_03   16.0  4.6875  2.056494  0.0  3.75  6.0  6.00  6.0"
      ]
     },
     "execution_count": 31,
     "metadata": {},
     "output_type": "execute_result"
    }
   ],
   "source": [
    "# print statistics describing df (transposed horizontal format)\n",
    "stats_h = df.describe().T\n",
    "stats_h"
   ]
  },
  {
   "cell_type": "code",
   "execution_count": 80,
   "metadata": {},
   "outputs": [
    {
     "name": "stdout",
     "output_type": "stream",
     "text": [
      "grp_01 with 16 samples:\n",
      "\tmean=1.3125\n",
      "\tmedian=0.0\n",
      "\tmode=[0]\n",
      "\tmode_count=[10]\n",
      "grp_02 with 16 samples:\n",
      "\tmean=3.0\n",
      "\tmedian=3.0\n",
      "\tmode=[3]\n",
      "\tmode_count=[4]\n",
      "grp_03 with 16 samples:\n",
      "\tmean=4.6875\n",
      "\tmedian=6.0\n",
      "\tmode=[6]\n",
      "\tmode_count=[10]\n"
     ]
    }
   ],
   "source": [
    "# calculate count, mean, median, mode\n",
    "for key, val in d.items():\n",
    "    a = np.array(val)\n",
    "    n = len(a)\n",
    "    mean = np.mean(a)\n",
    "    median = np.median(a)\n",
    "    mode = stats.mode(a) # mode has .mode and .count attributes\n",
    "    print(f\"{key} with {n} samples:\\n\\tmean={mean}\\n\\tmedian={median}\\n\\tmode={mode.mode}\\n\\tmode_count={mode.count}\")"
   ]
  },
  {
   "cell_type": "code",
   "execution_count": 84,
   "metadata": {},
   "outputs": [
    {
     "name": "stdout",
     "output_type": "stream",
     "text": [
      "grp_01 with 16 samples:\n",
      "\tvar=3.96484375\n",
      "\tstandard deviation=2.056493779875511\n",
      "\tstandard error=0.5141234449688777\n",
      "grp_02 with 16 samples:\n",
      "\tvar=2.5\n",
      "\tstandard deviation=1.632993161855452\n",
      "\tstandard error=0.408248290463863\n",
      "grp_03 with 16 samples:\n",
      "\tvar=3.96484375\n",
      "\tstandard deviation=2.056493779875511\n",
      "\tstandard error=0.5141234449688777\n"
     ]
    }
   ],
   "source": [
    "# calculate variance, standard deviation, standard error\n",
    "for key, val in d.items():\n",
    "    a = np.array(val)\n",
    "    var = np.var(a, axis=None)\n",
    "    s = np.std(a, ddof=1) # The divisor used in calculations is N - ddof, where N represents the number of elements. By default ddof is zero.\n",
    "    sem = s / np.sqrt(n) # calculate standard error using numpy\n",
    "#     sem = stats.sem(a) # calculate standard error using scipy\n",
    "    print(f\"{key} with {n} samples:\\n\\tvar={var}\\n\\tstandard deviation={s}\\n\\tstandard error={sem}\")\n"
   ]
  },
  {
   "cell_type": "code",
   "execution_count": 85,
   "metadata": {},
   "outputs": [],
   "source": [
    "# enable inline plotting in Jupyter notebook\n",
    "%matplotlib inline"
   ]
  },
  {
   "cell_type": "code",
   "execution_count": 86,
   "metadata": {},
   "outputs": [
    {
     "data": {
      "image/png": "[encoded data removed]",
      "text/plain": [
       "<Figure size 432x288 with 1 Axes>"
      ]
     },
     "metadata": {},
     "output_type": "display_data"
    },
    {
     "data": {
      "image/png": "[encoded data removed]",
      "text/plain": [
       "<Figure size 432x288 with 1 Axes>"
      ]
     },
     "metadata": {},
     "output_type": "display_data"
    },
    {
     "data": {
      "image/png": "[encoded data removed]",
      "text/plain": [
       "<Figure size 432x288 with 1 Axes>"
      ]
     },
     "metadata": {},
     "output_type": "display_data"
    }
   ],
   "source": [
    "# graph histogram distribution of values in each group\n",
    "for key, val in d.items():\n",
    "    fig, ax = plt.subplots()\n",
    "    num_bins = 7\n",
    "    a = d[key]\n",
    "    mu = np.mean(a)\n",
    "    sigma = np.std(a)\n",
    "    n, bins, patches = ax.hist(a, num_bins, density=1)\n",
    "    ax.set_xlabel('x')\n",
    "    ax.set_ylabel('frequency')\n",
    "    ax.set_title(f'Frequency of x: mu={mu}, sigma={sigma}')\n",
    "    fig.tight_layout()\n",
    "    plt.show()"
   ]
  }
 ],
 "metadata": {
  "kernelspec": {
   "display_name": "Python 3",
   "language": "python",
   "name": "python3"
  },
  "language_info": {
   "codemirror_mode": {
    "name": "ipython",
    "version": 3
   },
   "file_extension": ".py",
   "mimetype": "text/x-python",
   "name": "python",
   "nbconvert_exporter": "python",
   "pygments_lexer": "ipython3",
   "version": "3.6.5"
  }
 },
 "nbformat": 4,
 "nbformat_minor": 2
}
