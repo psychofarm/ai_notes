{
 "nbformat": 4,
 "nbformat_minor": 0,
 "metadata": {
  "colab": {
   "name": "pandas.ipynb",
   "version": "0.3.2",
   "provenance": [],
   "toc_visible": true
  },
  "kernelspec": {
   "name": "python3",
   "language": "python",
   "display_name": "Python 3 (ipykernel)"
  }
 },
 "cells": [
  {
   "metadata": {
    "id": "gOQrS9GtgRaD",
    "colab_type": "text"
   },
   "cell_type": "markdown",
   "source": [
    "# Pandas 1\n",
    "\n",
    "## Try out pandas on colab"
   ]
  },
  {
   "metadata": {
    "id": "UsTmySiyjw3x",
    "colab_type": "text"
   },
   "cell_type": "markdown",
   "source": [
    "### panda DataFrame from dictionary"
   ]
  },
  {
   "metadata": {
    "id": "YVTzyZMEgBjy",
    "colab_type": "code",
    "colab": {}
   },
   "cell_type": "code",
   "source": [
    "# import needed libraries\n",
    "import numpy as np\n",
    "import pandas as pd"
   ],
   "execution_count": 1,
   "outputs": []
  },
  {
   "metadata": {
    "id": "L3SK3pgvgQiK",
    "colab_type": "code",
    "colab": {
     "base_uri": "https://localhost:8080/",
     "height": 193
    },
    "outputId": "ad907155-3be5-4dc8-e8cc-e5d8d53da52b",
    "executionInfo": {
     "status": "ok",
     "timestamp": 1537657917952,
     "user_tz": 240,
     "elapsed": 541,
     "user": {
      "displayName": "Frank Genova",
      "photoUrl": "",
      "userId": "09432320244557958942"
     }
    }
   },
   "cell_type": "code",
   "source": [
    "# create dataframe from dictionary\n",
    "d = {\n",
    "    \"key_a\": [1, 3, 5, 7],\n",
    "    \"key_b\": [2, 4, 6, 8],\n",
    "    \"key_c\": [0, 0, 0, 0],\n",
    "    \"key_d\": [1, 1, 1, 1]\n",
    "}\n",
    "\n",
    "df_d = pd.DataFrame(d)\n",
    "df_d"
   ],
   "execution_count": 2,
   "outputs": [
    {
     "data": {
      "text/plain": "   key_a  key_b  key_c  key_d\n0      1      2      0      1\n1      3      4      0      1\n2      5      6      0      1\n3      7      8      0      1",
      "text/html": "<div>\n<style scoped>\n    .dataframe tbody tr th:only-of-type {\n        vertical-align: middle;\n    }\n\n    .dataframe tbody tr th {\n        vertical-align: top;\n    }\n\n    .dataframe thead th {\n        text-align: right;\n    }\n</style>\n<table border=\"1\" class=\"dataframe\">\n  <thead>\n    <tr style=\"text-align: right;\">\n      <th></th>\n      <th>key_a</th>\n      <th>key_b</th>\n      <th>key_c</th>\n      <th>key_d</th>\n    </tr>\n  </thead>\n  <tbody>\n    <tr>\n      <th>0</th>\n      <td>1</td>\n      <td>2</td>\n      <td>0</td>\n      <td>1</td>\n    </tr>\n    <tr>\n      <th>1</th>\n      <td>3</td>\n      <td>4</td>\n      <td>0</td>\n      <td>1</td>\n    </tr>\n    <tr>\n      <th>2</th>\n      <td>5</td>\n      <td>6</td>\n      <td>0</td>\n      <td>1</td>\n    </tr>\n    <tr>\n      <th>3</th>\n      <td>7</td>\n      <td>8</td>\n      <td>0</td>\n      <td>1</td>\n    </tr>\n  </tbody>\n</table>\n</div>"
     },
     "execution_count": 2,
     "metadata": {},
     "output_type": "execute_result"
    }
   ]
  },
  {
   "metadata": {
    "id": "gugOQCUjjIKB",
    "colab_type": "code",
    "colab": {
     "base_uri": "https://localhost:8080/",
     "height": 317
    },
    "outputId": "84d20c18-aa31-47a2-d5b5-94db1f896afe",
    "executionInfo": {
     "status": "ok",
     "timestamp": 1537658093562,
     "user_tz": 240,
     "elapsed": 502,
     "user": {
      "displayName": "Frank Genova",
      "photoUrl": "",
      "userId": "09432320244557958942"
     }
    }
   },
   "cell_type": "code",
   "source": [
    "# print stats about DataFrame\n",
    "df_d.describe()"
   ],
   "execution_count": 3,
   "outputs": [
    {
     "data": {
      "text/plain": "          key_a     key_b  key_c  key_d\ncount  4.000000  4.000000    4.0    4.0\nmean   4.000000  5.000000    0.0    1.0\nstd    2.581989  2.581989    0.0    0.0\nmin    1.000000  2.000000    0.0    1.0\n25%    2.500000  3.500000    0.0    1.0\n50%    4.000000  5.000000    0.0    1.0\n75%    5.500000  6.500000    0.0    1.0\nmax    7.000000  8.000000    0.0    1.0",
      "text/html": "<div>\n<style scoped>\n    .dataframe tbody tr th:only-of-type {\n        vertical-align: middle;\n    }\n\n    .dataframe tbody tr th {\n        vertical-align: top;\n    }\n\n    .dataframe thead th {\n        text-align: right;\n    }\n</style>\n<table border=\"1\" class=\"dataframe\">\n  <thead>\n    <tr style=\"text-align: right;\">\n      <th></th>\n      <th>key_a</th>\n      <th>key_b</th>\n      <th>key_c</th>\n      <th>key_d</th>\n    </tr>\n  </thead>\n  <tbody>\n    <tr>\n      <th>count</th>\n      <td>4.000000</td>\n      <td>4.000000</td>\n      <td>4.0</td>\n      <td>4.0</td>\n    </tr>\n    <tr>\n      <th>mean</th>\n      <td>4.000000</td>\n      <td>5.000000</td>\n      <td>0.0</td>\n      <td>1.0</td>\n    </tr>\n    <tr>\n      <th>std</th>\n      <td>2.581989</td>\n      <td>2.581989</td>\n      <td>0.0</td>\n      <td>0.0</td>\n    </tr>\n    <tr>\n      <th>min</th>\n      <td>1.000000</td>\n      <td>2.000000</td>\n      <td>0.0</td>\n      <td>1.0</td>\n    </tr>\n    <tr>\n      <th>25%</th>\n      <td>2.500000</td>\n      <td>3.500000</td>\n      <td>0.0</td>\n      <td>1.0</td>\n    </tr>\n    <tr>\n      <th>50%</th>\n      <td>4.000000</td>\n      <td>5.000000</td>\n      <td>0.0</td>\n      <td>1.0</td>\n    </tr>\n    <tr>\n      <th>75%</th>\n      <td>5.500000</td>\n      <td>6.500000</td>\n      <td>0.0</td>\n      <td>1.0</td>\n    </tr>\n    <tr>\n      <th>max</th>\n      <td>7.000000</td>\n      <td>8.000000</td>\n      <td>0.0</td>\n      <td>1.0</td>\n    </tr>\n  </tbody>\n</table>\n</div>"
     },
     "execution_count": 3,
     "metadata": {},
     "output_type": "execute_result"
    }
   ]
  },
  {
   "metadata": {
    "id": "RCQNGB7jkMpA",
    "colab_type": "text"
   },
   "cell_type": "markdown",
   "source": [
    "### pandas DataFrame from numpy random numbers"
   ]
  },
  {
   "metadata": {
    "id": "VsEnMIHihi_c",
    "colab_type": "code",
    "colab": {
     "base_uri": "https://localhost:8080/",
     "height": 359
    },
    "outputId": "af4cd857-2d40-4925-b899-5fbcb8ecdc1b",
    "executionInfo": {
     "status": "ok",
     "timestamp": 1537657915390,
     "user_tz": 240,
     "elapsed": 664,
     "user": {
      "displayName": "Frank Genova",
      "photoUrl": "",
      "userId": "09432320244557958942"
     }
    }
   },
   "cell_type": "code",
   "source": [
    "# create dataframe with 10 random numbers 0 to 100\n",
    "min_rnd = 0\n",
    "max_rnd = 100\n",
    "num_row = 10\n",
    "num_col = 4\n",
    "cols = ['A', 'B', 'C', 'D']\n",
    "df_rnd = pd.DataFrame(np.random.randint(min_rnd,\n",
    "                                        max_rnd,\n",
    "                                        size=(num_row, num_col)\n",
    "                                        ),\n",
    "                      columns=cols)\n",
    "df_rnd"
   ],
   "execution_count": 7,
   "outputs": [
    {
     "data": {
      "text/plain": "    A   B   C   D\n0   0  25   8  99\n1  28  95  42  16\n2  22  38  49  82\n3  32  28  46  53\n4  51  22  78  40\n5  87  21  25  30\n6  77  33  91   8\n7  77  31  81  23\n8  49  74  56  44\n9  26  90  99  93",
      "text/html": "<div>\n<style scoped>\n    .dataframe tbody tr th:only-of-type {\n        vertical-align: middle;\n    }\n\n    .dataframe tbody tr th {\n        vertical-align: top;\n    }\n\n    .dataframe thead th {\n        text-align: right;\n    }\n</style>\n<table border=\"1\" class=\"dataframe\">\n  <thead>\n    <tr style=\"text-align: right;\">\n      <th></th>\n      <th>A</th>\n      <th>B</th>\n      <th>C</th>\n      <th>D</th>\n    </tr>\n  </thead>\n  <tbody>\n    <tr>\n      <th>0</th>\n      <td>0</td>\n      <td>25</td>\n      <td>8</td>\n      <td>99</td>\n    </tr>\n    <tr>\n      <th>1</th>\n      <td>28</td>\n      <td>95</td>\n      <td>42</td>\n      <td>16</td>\n    </tr>\n    <tr>\n      <th>2</th>\n      <td>22</td>\n      <td>38</td>\n      <td>49</td>\n      <td>82</td>\n    </tr>\n    <tr>\n      <th>3</th>\n      <td>32</td>\n      <td>28</td>\n      <td>46</td>\n      <td>53</td>\n    </tr>\n    <tr>\n      <th>4</th>\n      <td>51</td>\n      <td>22</td>\n      <td>78</td>\n      <td>40</td>\n    </tr>\n    <tr>\n      <th>5</th>\n      <td>87</td>\n      <td>21</td>\n      <td>25</td>\n      <td>30</td>\n    </tr>\n    <tr>\n      <th>6</th>\n      <td>77</td>\n      <td>33</td>\n      <td>91</td>\n      <td>8</td>\n    </tr>\n    <tr>\n      <th>7</th>\n      <td>77</td>\n      <td>31</td>\n      <td>81</td>\n      <td>23</td>\n    </tr>\n    <tr>\n      <th>8</th>\n      <td>49</td>\n      <td>74</td>\n      <td>56</td>\n      <td>44</td>\n    </tr>\n    <tr>\n      <th>9</th>\n      <td>26</td>\n      <td>90</td>\n      <td>99</td>\n      <td>93</td>\n    </tr>\n  </tbody>\n</table>\n</div>"
     },
     "execution_count": 7,
     "metadata": {},
     "output_type": "execute_result"
    }
   ]
  },
  {
   "metadata": {
    "id": "O1vbAeFqjiue",
    "colab_type": "code",
    "colab": {
     "base_uri": "https://localhost:8080/",
     "height": 297
    },
    "outputId": "cb7579e1-5b76-4bc3-bdf2-b21383ab586b",
    "executionInfo": {
     "status": "ok",
     "timestamp": 1537657947956,
     "user_tz": 240,
     "elapsed": 462,
     "user": {
      "displayName": "Frank Genova",
      "photoUrl": "",
      "userId": "09432320244557958942"
     }
    }
   },
   "cell_type": "code",
   "source": [
    "df_rnd.describe()"
   ],
   "execution_count": 5,
   "outputs": [
    {
     "data": {
      "text/plain": "               A         B          C          D\ncount  10.000000  10.00000  10.000000  10.000000\nmean   50.100000  55.10000  37.900000  47.800000\nstd    24.076037  22.45712  20.124336  23.507918\nmin     7.000000  29.00000   5.000000  16.000000\n25%    44.250000  33.50000  32.000000  26.250000\n50%    53.000000  56.50000  41.000000  47.000000\n75%    62.750000  76.75000  46.000000  67.000000\nmax    85.000000  83.00000  72.000000  79.000000",
      "text/html": "<div>\n<style scoped>\n    .dataframe tbody tr th:only-of-type {\n        vertical-align: middle;\n    }\n\n    .dataframe tbody tr th {\n        vertical-align: top;\n    }\n\n    .dataframe thead th {\n        text-align: right;\n    }\n</style>\n<table border=\"1\" class=\"dataframe\">\n  <thead>\n    <tr style=\"text-align: right;\">\n      <th></th>\n      <th>A</th>\n      <th>B</th>\n      <th>C</th>\n      <th>D</th>\n    </tr>\n  </thead>\n  <tbody>\n    <tr>\n      <th>count</th>\n      <td>10.000000</td>\n      <td>10.00000</td>\n      <td>10.000000</td>\n      <td>10.000000</td>\n    </tr>\n    <tr>\n      <th>mean</th>\n      <td>50.100000</td>\n      <td>55.10000</td>\n      <td>37.900000</td>\n      <td>47.800000</td>\n    </tr>\n    <tr>\n      <th>std</th>\n      <td>24.076037</td>\n      <td>22.45712</td>\n      <td>20.124336</td>\n      <td>23.507918</td>\n    </tr>\n    <tr>\n      <th>min</th>\n      <td>7.000000</td>\n      <td>29.00000</td>\n      <td>5.000000</td>\n      <td>16.000000</td>\n    </tr>\n    <tr>\n      <th>25%</th>\n      <td>44.250000</td>\n      <td>33.50000</td>\n      <td>32.000000</td>\n      <td>26.250000</td>\n    </tr>\n    <tr>\n      <th>50%</th>\n      <td>53.000000</td>\n      <td>56.50000</td>\n      <td>41.000000</td>\n      <td>47.000000</td>\n    </tr>\n    <tr>\n      <th>75%</th>\n      <td>62.750000</td>\n      <td>76.75000</td>\n      <td>46.000000</td>\n      <td>67.000000</td>\n    </tr>\n    <tr>\n      <th>max</th>\n      <td>85.000000</td>\n      <td>83.00000</td>\n      <td>72.000000</td>\n      <td>79.000000</td>\n    </tr>\n  </tbody>\n</table>\n</div>"
     },
     "execution_count": 5,
     "metadata": {},
     "output_type": "execute_result"
    }
   ]
  },
  {
   "metadata": {
    "id": "zNxifLIKl9MV",
    "colab_type": "code",
    "colab": {}
   },
   "cell_type": "code",
   "source": [
    ""
   ],
   "execution_count": 5,
   "outputs": []
  },
  {
   "metadata": {
    "id": "GeDEbCYRl-pg",
    "colab_type": "text"
   },
   "cell_type": "markdown",
   "source": [
    "### Altair Bar Plot"
   ]
  },
  {
   "metadata": {
    "id": "G0MNo5pvmF41",
    "colab_type": "code",
    "colab": {
     "base_uri": "https://localhost:8080/",
     "height": 204
    },
    "outputId": "760a5f04-8d5d-4b76-b5e8-bb219e151c2a",
    "executionInfo": {
     "status": "ok",
     "timestamp": 1537659081484,
     "user_tz": 240,
     "elapsed": 431,
     "user": {
      "displayName": "Frank Genova",
      "photoUrl": "",
      "userId": "09432320244557958942"
     }
    }
   },
   "cell_type": "code",
   "source": [
    "# load an example dataset\n",
    "from vega_datasets import data\n",
    "cars = data.cars()\n",
    "cars.head()"
   ],
   "execution_count": 6,
   "outputs": [
    {
     "ename": "ModuleNotFoundError",
     "evalue": "No module named 'vega_datasets'",
     "output_type": "error",
     "traceback": [
      "\u001B[1;31m---------------------------------------------------------------------------\u001B[0m",
      "\u001B[1;31mModuleNotFoundError\u001B[0m                       Traceback (most recent call last)",
      "\u001B[1;32m~\\AppData\\Local\\Temp/ipykernel_48252/4137832508.py\u001B[0m in \u001B[0;36m<module>\u001B[1;34m\u001B[0m\n\u001B[0;32m      1\u001B[0m \u001B[1;31m# load an example dataset\u001B[0m\u001B[1;33m\u001B[0m\u001B[1;33m\u001B[0m\u001B[0m\n\u001B[1;32m----> 2\u001B[1;33m \u001B[1;32mfrom\u001B[0m \u001B[0mvega_datasets\u001B[0m \u001B[1;32mimport\u001B[0m \u001B[0mdata\u001B[0m\u001B[1;33m\u001B[0m\u001B[1;33m\u001B[0m\u001B[0m\n\u001B[0m\u001B[0;32m      3\u001B[0m \u001B[0mcars\u001B[0m \u001B[1;33m=\u001B[0m \u001B[0mdata\u001B[0m\u001B[1;33m.\u001B[0m\u001B[0mcars\u001B[0m\u001B[1;33m(\u001B[0m\u001B[1;33m)\u001B[0m\u001B[1;33m\u001B[0m\u001B[1;33m\u001B[0m\u001B[0m\n\u001B[0;32m      4\u001B[0m \u001B[0mcars\u001B[0m\u001B[1;33m.\u001B[0m\u001B[0mhead\u001B[0m\u001B[1;33m(\u001B[0m\u001B[1;33m)\u001B[0m\u001B[1;33m\u001B[0m\u001B[1;33m\u001B[0m\u001B[0m\n\u001B[0;32m      5\u001B[0m \u001B[1;33m\u001B[0m\u001B[0m\n",
      "\u001B[1;31mModuleNotFoundError\u001B[0m: No module named 'vega_datasets'"
     ]
    }
   ]
  },
  {
   "metadata": {
    "id": "doTbTArEnM0Z",
    "colab_type": "code",
    "colab": {
     "base_uri": "https://localhost:8080/",
     "height": 146
    },
    "outputId": "734285f1-907b-46b1-cd9e-0a8ce7981855",
    "executionInfo": {
     "status": "ok",
     "timestamp": 1537659091216,
     "user_tz": 240,
     "elapsed": 464,
     "user": {
      "displayName": "Frank Genova",
      "photoUrl": "",
      "userId": "09432320244557958942"
     }
    }
   },
   "cell_type": "code",
   "source": [
    "# plot the dataset, referencing dataframe column names\n",
    "import altair as alt\n",
    "alt.Chart(cars).mark_bar().encode(\n",
    "  x='mean(Miles_per_Gallon)',\n",
    "  y='Origin',\n",
    "  color='Origin'\n",
    ")"
   ],
   "execution_count": null,
   "outputs": []
  },
  {
   "metadata": {
    "id": "jcjnO40Qn8_Z",
    "colab_type": "code",
    "colab": {
     "base_uri": "https://localhost:8080/",
     "height": 146
    },
    "outputId": "5e32a69f-6a32-4ae7-dbe4-22daa37c0bfe",
    "executionInfo": {
     "status": "ok",
     "timestamp": 1537659126959,
     "user_tz": 240,
     "elapsed": 427,
     "user": {
      "displayName": "Frank Genova",
      "photoUrl": "",
      "userId": "09432320244557958942"
     }
    }
   },
   "cell_type": "code",
   "source": [
    "# plot the dataset, referencing dataframe column names\n",
    "alt.Chart(cars).mark_bar().encode(\n",
    "  x='mean(Acceleration)',\n",
    "  y='Origin',\n",
    "  color='Origin'\n",
    ")"
   ],
   "execution_count": null,
   "outputs": []
  }
 ]
}